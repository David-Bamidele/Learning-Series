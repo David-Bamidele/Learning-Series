{
 "cells": [
  {
   "cell_type": "markdown",
   "id": "422fe7b6",
   "metadata": {},
   "source": [
    "### Python Basic Syntax"
   ]
  },
  {
   "cell_type": "code",
   "execution_count": 9,
   "id": "59425a5d",
   "metadata": {},
   "outputs": [
    {
     "name": "stdout",
     "output_type": "stream",
     "text": [
      "Hello, David, Welcome to Python\n"
     ]
    },
    {
     "data": {
      "text/plain": [
       "'\\nThis is a \\nmulti-line comment\\n'"
      ]
     },
     "execution_count": 9,
     "metadata": {},
     "output_type": "execute_result"
    }
   ],
   "source": [
    "# Print Statement\n",
    "print(\"Hello, David, Welcome to Python\") \n",
    "\n",
    "# Comments\n",
    "# This is a single-line comment\n",
    "\"\"\"\n",
    "This is a \n",
    "multi-line comment\n",
    "\"\"\""
   ]
  },
  {
   "cell_type": "code",
   "execution_count": 18,
   "id": "b30e2bd4",
   "metadata": {},
   "outputs": [
    {
     "ename": "NameError",
     "evalue": "name 'dd' is not defined",
     "output_type": "error",
     "traceback": [
      "\u001b[0;31m---------------------------------------------------------------------------\u001b[0m",
      "\u001b[0;31mNameError\u001b[0m                                 Traceback (most recent call last)",
      "Cell \u001b[0;32mIn[18], line 1\u001b[0m\n\u001b[0;32m----> 1\u001b[0m dd\n",
      "\u001b[0;31mNameError\u001b[0m: name 'dd' is not defined"
     ]
    }
   ],
   "source": []
  },
  {
   "cell_type": "code",
   "execution_count": null,
   "id": "1c4c39db",
   "metadata": {},
   "outputs": [],
   "source": []
  },
  {
   "cell_type": "code",
   "execution_count": 11,
   "id": "261f42d2",
   "metadata": {},
   "outputs": [
    {
     "name": "stdout",
     "output_type": "stream",
     "text": [
      "Welcome to python programming\n"
     ]
    }
   ],
   "source": [
    "print(\"Welcome to python programming\")"
   ]
  },
  {
   "cell_type": "code",
   "execution_count": 14,
   "id": "03705557",
   "metadata": {},
   "outputs": [],
   "source": [
    "# This is the beginning of ground beaking feats for David in the Data field"
   ]
  },
  {
   "cell_type": "code",
   "execution_count": null,
   "id": "01581614",
   "metadata": {},
   "outputs": [],
   "source": []
  },
  {
   "cell_type": "code",
   "execution_count": 10,
   "id": "9db8e43f",
   "metadata": {},
   "outputs": [
    {
     "name": "stdout",
     "output_type": "stream",
     "text": [
      "Welcome to Python Programming\n"
     ]
    }
   ],
   "source": [
    "# Practice Questions:\n",
    "# 1. Write a program to print \"Welcome to Python Programming\".\n",
    "print(\"Welcome to Python Programming\")\n",
    "# 2. Write comments explaining what each line of your program does."
   ]
  },
  {
   "cell_type": "markdown",
   "id": "71851fb3",
   "metadata": {},
   "source": [
    "### Python Variables/Constants"
   ]
  },
  {
   "cell_type": "code",
   "execution_count": null,
   "id": "ada38db2",
   "metadata": {},
   "outputs": [],
   "source": []
  },
  {
   "cell_type": "code",
   "execution_count": 19,
   "id": "30895749",
   "metadata": {},
   "outputs": [
    {
     "name": "stdout",
     "output_type": "stream",
     "text": [
      "Variable x: 10\n"
     ]
    }
   ],
   "source": [
    "# Variables\n",
    "# Variables are used to store data that can be changed later. \n",
    "# In Python, you can assign a value to a variable using the assignment operator '='.\n",
    "\n",
    "# Example of a variable:\n",
    "x = 10\n",
    "print(\"Variable x:\", x)"
   ]
  },
  {
   "cell_type": "code",
   "execution_count": 20,
   "id": "c787c13b",
   "metadata": {},
   "outputs": [
    {
     "name": "stdout",
     "output_type": "stream",
     "text": [
      "Updated variable x: 20\n"
     ]
    }
   ],
   "source": [
    "# You can change the value of a variable by assigning a new value to it:\n",
    "x = 20\n",
    "print(\"Updated variable x:\", x)"
   ]
  },
  {
   "cell_type": "code",
   "execution_count": 24,
   "id": "4e62897a",
   "metadata": {},
   "outputs": [
    {
     "name": "stdout",
     "output_type": "stream",
     "text": [
      "Constant P: 3.14159\n"
     ]
    }
   ],
   "source": [
    "# Constants\n",
    "# Constants are used to store data that should not changed throughout the program. \n",
    "# By convention, constants are usually written in all uppercase letters.\n",
    "\n",
    "# Python does not have a built-in constant type, but you can use naming conventions to indicate that a variable should be treated as a constant.\n",
    "\n",
    "# Example of a constant:\n",
    "PIE = 3.14159\n",
    "print(\"Constant PIE:\", PIE)"
   ]
  },
  {
   "cell_type": "code",
   "execution_count": 27,
   "id": "823d381d",
   "metadata": {},
   "outputs": [
    {
     "name": "stdout",
     "output_type": "stream",
     "text": [
      "Big Boy Name: 300\n"
     ]
    }
   ],
   "source": [
    "#Create a variable\n",
    "\n",
    "NAME = 300\n",
    "print(\"Big Boy Name:\", NAME)"
   ]
  },
  {
   "cell_type": "code",
   "execution_count": null,
   "id": "24663d25",
   "metadata": {},
   "outputs": [],
   "source": [
    "# Although you can technically change the value of a constant, you should avoid doing so to prevent confusion and errors in your code.\n",
    "# Example (not recommended):\n",
    "PI = 3.14  # This is not recommended, as it breaks the constant convention.\n",
    "print(\"Updated constant PI (not recommended):\", PI)"
   ]
  },
  {
   "cell_type": "code",
   "execution_count": null,
   "id": "f3c71899",
   "metadata": {},
   "outputs": [],
   "source": [
    "# Practice Questions:\n",
    "# 1. Create a variable `name` and assign your name to it.\n",
    "# 2. Define a constant `SPEED_OF_LIGHT` and assign it the value `299792458`."
   ]
  },
  {
   "cell_type": "markdown",
   "id": "f8aa1226",
   "metadata": {},
   "source": [
    "### Assigning / Reassigning value to a variable"
   ]
  },
  {
   "cell_type": "code",
   "execution_count": 32,
   "id": "f371976c",
   "metadata": {},
   "outputs": [],
   "source": [
    "# Assigning a value to a variable\n",
    "age = 25\n",
    "\n",
    "# Reassigning a value to a variable\n",
    "age = 26"
   ]
  },
  {
   "cell_type": "code",
   "execution_count": null,
   "id": "f22966b9",
   "metadata": {},
   "outputs": [],
   "source": [
    "age"
   ]
  },
  {
   "cell_type": "code",
   "execution_count": null,
   "id": "4ecd1dde",
   "metadata": {},
   "outputs": [],
   "source": [
    "# Practice Questions:\n",
    "# 1. Assign the value 10 to a variable `a`, then reassign it to 15.\n",
    "# 2. Create a variable `b`, assign it the value 20, then change its value to 30."
   ]
  },
  {
   "cell_type": "code",
   "execution_count": 37,
   "id": "ea5d18e4",
   "metadata": {},
   "outputs": [],
   "source": [
    "a = 10\n",
    "\n",
    "a = 15"
   ]
  },
  {
   "cell_type": "code",
   "execution_count": 38,
   "id": "883688da",
   "metadata": {},
   "outputs": [
    {
     "data": {
      "text/plain": [
       "15"
      ]
     },
     "execution_count": 38,
     "metadata": {},
     "output_type": "execute_result"
    }
   ],
   "source": [
    "a"
   ]
  },
  {
   "cell_type": "code",
   "execution_count": 44,
   "id": "195a7944",
   "metadata": {},
   "outputs": [],
   "source": [
    "b = 20\n",
    "\n",
    "b = 30"
   ]
  },
  {
   "cell_type": "code",
   "execution_count": 43,
   "id": "c2adea5d",
   "metadata": {},
   "outputs": [
    {
     "data": {
      "text/plain": [
       "20"
      ]
     },
     "execution_count": 43,
     "metadata": {},
     "output_type": "execute_result"
    }
   ],
   "source": [
    "b"
   ]
  },
  {
   "cell_type": "code",
   "execution_count": 45,
   "id": "68d6d681",
   "metadata": {},
   "outputs": [
    {
     "data": {
      "text/plain": [
       "30"
      ]
     },
     "execution_count": 45,
     "metadata": {},
     "output_type": "execute_result"
    }
   ],
   "source": [
    "b"
   ]
  },
  {
   "cell_type": "markdown",
   "id": "5bc5dc8e",
   "metadata": {},
   "source": [
    "### Python Arithmetic Operators"
   ]
  },
  {
   "cell_type": "code",
   "execution_count": 39,
   "id": "1943ab65",
   "metadata": {},
   "outputs": [],
   "source": [
    "a = 10\n",
    "b = 3"
   ]
  },
  {
   "cell_type": "code",
   "execution_count": 46,
   "id": "398b86da",
   "metadata": {},
   "outputs": [],
   "source": [
    "# Addition\n",
    "add = a + b  # 13"
   ]
  },
  {
   "cell_type": "code",
   "execution_count": null,
   "id": "fbbbe708",
   "metadata": {},
   "outputs": [],
   "source": [
    "add"
   ]
  },
  {
   "cell_type": "code",
   "execution_count": 47,
   "id": "46074fe7",
   "metadata": {},
   "outputs": [
    {
     "name": "stdout",
     "output_type": "stream",
     "text": [
      "addition of a & b = 40\n"
     ]
    }
   ],
   "source": [
    "print (\"addition of a & b =\", add)"
   ]
  },
  {
   "cell_type": "code",
   "execution_count": 59,
   "id": "b5ff4ae4",
   "metadata": {},
   "outputs": [
    {
     "name": "stdout",
     "output_type": "stream",
     "text": [
      "subtraction of a & b -20\n"
     ]
    }
   ],
   "source": [
    "# Subtraction\n",
    "subtract = (a - b)\n",
    "print (\"subtraction of a & b\", subtract)"
   ]
  },
  {
   "cell_type": "code",
   "execution_count": 51,
   "id": "75d8c764",
   "metadata": {},
   "outputs": [],
   "source": [
    "# Multiplication\n",
    "multiply = a * b  # 30"
   ]
  },
  {
   "cell_type": "code",
   "execution_count": null,
   "id": "86624bee",
   "metadata": {},
   "outputs": [],
   "source": [
    "# Division\n",
    "divide = a / b  # 3.333..."
   ]
  },
  {
   "cell_type": "code",
   "execution_count": null,
   "id": "db5820ef",
   "metadata": {},
   "outputs": [],
   "source": [
    "divide"
   ]
  },
  {
   "cell_type": "code",
   "execution_count": 57,
   "id": "014d345b",
   "metadata": {},
   "outputs": [
    {
     "name": "stdout",
     "output_type": "stream",
     "text": [
      "Floor Division: 4\n"
     ]
    }
   ],
   "source": [
    "# Floor Division\n",
    "# The floor division operator (//) divides two numbers and returns the largest integer less than or equal to the result.\n",
    "# For example, 10 // 3 is 3 because 10 divided by 3 is 3.333, and the floor of 3.333 is 3.\n",
    "\n",
    "floor_division_result = 37 // 9\n",
    "print(\"Floor Division:\", floor_division_result)  # Output: 3"
   ]
  },
  {
   "cell_type": "code",
   "execution_count": 60,
   "id": "10510dbc",
   "metadata": {},
   "outputs": [
    {
     "name": "stdout",
     "output_type": "stream",
     "text": [
      "Modulo: 1\n"
     ]
    }
   ],
   "source": [
    "# Modulo\n",
    "# The modulo operator (%) returns the remainder of the division of two numbers.\n",
    "# For example, 10 % 3 is 1 because 10 divided by 3 is 3 with a remainder of 1.\n",
    "\n",
    "a = 10\n",
    "b = 3\n",
    "modulo_result = a % b\n",
    "print(\"Modulo:\", modulo_result)  # Output: 1"
   ]
  },
  {
   "cell_type": "code",
   "execution_count": 61,
   "id": "90aeba27",
   "metadata": {},
   "outputs": [
    {
     "name": "stdout",
     "output_type": "stream",
     "text": [
      "Exponent: 8\n"
     ]
    }
   ],
   "source": [
    "# Exponent\n",
    "# The exponent operator (**) raises the first number to the power of the second number.\n",
    "# For example, 2 ** 3 is 8 because 2 raised to the power of 3 is 8.\n",
    "\n",
    "base = 2\n",
    "exponent = 3\n",
    "exponent_result = base ** exponent\n",
    "print(\"Exponent:\", exponent_result)  # Output: 8"
   ]
  },
  {
   "cell_type": "code",
   "execution_count": null,
   "id": "f6cf13bd",
   "metadata": {},
   "outputs": [],
   "source": [
    "# Practice Questions:\n",
    "# 1. Perform addition, subtraction, multiplication, and division on two numbers.\n",
    "# 2. Find the modulus, exponent, and floor division of two numbers."
   ]
  },
  {
   "cell_type": "markdown",
   "id": "f0b6cc3b",
   "metadata": {},
   "source": [
    "### Python Comparison Operators"
   ]
  },
  {
   "cell_type": "code",
   "execution_count": 66,
   "id": "ac97d429",
   "metadata": {},
   "outputs": [],
   "source": [
    "a = 10\n",
    "b = 3"
   ]
  },
  {
   "cell_type": "code",
   "execution_count": 69,
   "id": "5db989d3",
   "metadata": {},
   "outputs": [
    {
     "ename": "NameError",
     "evalue": "name 'dd' is not defined",
     "output_type": "error",
     "traceback": [
      "\u001b[0;31m---------------------------------------------------------------------------\u001b[0m",
      "\u001b[0;31mNameError\u001b[0m                                 Traceback (most recent call last)",
      "Cell \u001b[0;32mIn[69], line 1\u001b[0m\n\u001b[0;32m----> 1\u001b[0m dd\n",
      "\u001b[0;31mNameError\u001b[0m: name 'dd' is not defined"
     ]
    }
   ],
   "source": []
  },
  {
   "cell_type": "code",
   "execution_count": null,
   "id": "c52b0982",
   "metadata": {},
   "outputs": [],
   "source": []
  },
  {
   "cell_type": "code",
   "execution_count": 70,
   "id": "e8a8dba4",
   "metadata": {},
   "outputs": [],
   "source": [
    "# Equal\n",
    "equal = (a == b)  # False"
   ]
  },
  {
   "cell_type": "code",
   "execution_count": null,
   "id": "bcf3b4f9",
   "metadata": {},
   "outputs": [],
   "source": [
    "equal"
   ]
  },
  {
   "cell_type": "code",
   "execution_count": 72,
   "id": "34bdfa19",
   "metadata": {},
   "outputs": [
    {
     "data": {
      "text/plain": [
       "True"
      ]
     },
     "execution_count": 72,
     "metadata": {},
     "output_type": "execute_result"
    }
   ],
   "source": [
    "# Not Equal\n",
    "not_equal = (a != b)  # True\n",
    "not_equal"
   ]
  },
  {
   "cell_type": "code",
   "execution_count": 76,
   "id": "53dac485",
   "metadata": {},
   "outputs": [
    {
     "data": {
      "text/plain": [
       "True"
      ]
     },
     "execution_count": 76,
     "metadata": {},
     "output_type": "execute_result"
    }
   ],
   "source": [
    "# Greater than\n",
    "greater_than = (a > b)  # True\n",
    "greater_than"
   ]
  },
  {
   "cell_type": "code",
   "execution_count": null,
   "id": "e1e69257",
   "metadata": {},
   "outputs": [],
   "source": [
    "greater_than"
   ]
  },
  {
   "cell_type": "code",
   "execution_count": 75,
   "id": "8d8cdabd",
   "metadata": {},
   "outputs": [
    {
     "data": {
      "text/plain": [
       "False"
      ]
     },
     "execution_count": 75,
     "metadata": {},
     "output_type": "execute_result"
    }
   ],
   "source": [
    "# Less than\n",
    "less_than = (a < b)\n",
    "less_than"
   ]
  },
  {
   "cell_type": "code",
   "execution_count": null,
   "id": "7e0a9e95",
   "metadata": {},
   "outputs": [],
   "source": [
    "less_than"
   ]
  },
  {
   "cell_type": "code",
   "execution_count": null,
   "id": "fd1cdc9c",
   "metadata": {},
   "outputs": [],
   "source": [
    "10 >= 3"
   ]
  },
  {
   "cell_type": "code",
   "execution_count": null,
   "id": "fe613b58",
   "metadata": {},
   "outputs": [],
   "source": [
    "# Greater than or equal to\n",
    "greater_than_equal = (a >= b)  # True"
   ]
  },
  {
   "cell_type": "code",
   "execution_count": null,
   "id": "4ab4c9ff",
   "metadata": {},
   "outputs": [],
   "source": [
    "# Less than or equal to\n",
    "less_than_equal = (a <= b)  # False\n",
    "less_than_equal"
   ]
  },
  {
   "cell_type": "code",
   "execution_count": null,
   "id": "5f02bc28",
   "metadata": {},
   "outputs": [],
   "source": [
    "# Practice Questions:\n",
    "# 1. Compare two numbers using all the comparison operators and print the results.\n",
    "# 2. Write a program that checks if a number is greater than or equal to 18."
   ]
  },
  {
   "cell_type": "markdown",
   "id": "56f982e3",
   "metadata": {},
   "source": [
    "### Python Data Types"
   ]
  },
  {
   "cell_type": "code",
   "execution_count": null,
   "id": "cbbee8c0",
   "metadata": {},
   "outputs": [],
   "source": [
    "# Integers\n",
    "# Integers are whole numbers without a decimal point.\n",
    "integer = 10\n",
    "print(\"Integer:\", integer)\n",
    "\n",
    "# Float\n",
    "# Floats are numbers that have a decimal point.\n",
    "floating_point = 10.5\n",
    "print(\"Float:\", floating_point)\n",
    "\n",
    "# String\n",
    "# Strings are sequences of characters enclosed in quotes.\n",
    "string = \"Hello\"\n",
    "print(\"String:\", string)\n",
    "\n",
    "# Boolean\n",
    "# Booleans represent one of two values: True or False.\n",
    "boolean = True\n",
    "print(\"Boolean:\", boolean)\n",
    "\n",
    "# List\n",
    "# Lists are ordered collections of items, which can be of different types. Lists are mutable, meaning you can change their content.\n",
    "my_list = [1, 2, 3, 4, 5]\n",
    "print(\"List:\", my_list)\n",
    "\n",
    "# Tuple\n",
    "# Tuples are ordered collections of items, similar to lists, but they are immutable, meaning you cannot change their content once created.\n",
    "my_tuple = (1, 2, 3, 4, 5)\n",
    "print(\"Tuple:\", my_tuple)\n",
    "\n",
    "# Dictionary\n",
    "# Dictionaries are collections of key-value pairs. Each key is unique and is used to access the corresponding value.\n",
    "my_dict = {\"name\": \"Alice\", \"age\": 25}\n",
    "print(\"Dictionary:\", my_dict)\n",
    "\n",
    "# Set\n",
    "# Sets are unordered collections of unique items. They are useful for storing items where duplication is not allowed.\n",
    "my_set = {1, 2, 3, 4, 5}\n",
    "print(\"Set:\", my_set)"
   ]
  },
  {
   "cell_type": "markdown",
   "id": "5351186f",
   "metadata": {},
   "source": [
    "### Python String"
   ]
  },
  {
   "cell_type": "code",
   "execution_count": 77,
   "id": "1b355577",
   "metadata": {},
   "outputs": [],
   "source": [
    "# Single quotes\n",
    "single_quote_string = 'Hello'\n",
    "\n",
    "# Double quotes\n",
    "double_quote_string = \"World\"\n",
    "\n",
    "# Triple quotes\n",
    "triple_quote_string = '''Hello World'''"
   ]
  },
  {
   "cell_type": "code",
   "execution_count": null,
   "id": "0829d105",
   "metadata": {},
   "outputs": [],
   "source": [
    "# Practice Questions:\n",
    "# 1. Create a string using single, double, and triple quotes.\n",
    "# 2. Print each string."
   ]
  },
  {
   "cell_type": "markdown",
   "id": "1b8355c7",
   "metadata": {},
   "source": [
    "### Python String Operations"
   ]
  },
  {
   "cell_type": "code",
   "execution_count": 86,
   "id": "bc49aed5",
   "metadata": {},
   "outputs": [],
   "source": [
    "string1 = \"Hello \"\n",
    "string2 = \"World\""
   ]
  },
  {
   "cell_type": "code",
   "execution_count": 87,
   "id": "86a121f5",
   "metadata": {},
   "outputs": [],
   "source": [
    "# Concatenation\n",
    "concat = string1 + \" \" + string2 + \" my foot\" + \" 3\" # \"Hello World\""
   ]
  },
  {
   "cell_type": "code",
   "execution_count": 88,
   "id": "983f9bcc",
   "metadata": {},
   "outputs": [
    {
     "data": {
      "text/plain": [
       "'Hello  World my foot 3'"
      ]
     },
     "execution_count": 88,
     "metadata": {},
     "output_type": "execute_result"
    }
   ],
   "source": [
    "concat"
   ]
  },
  {
   "cell_type": "code",
   "execution_count": null,
   "id": "b9230548",
   "metadata": {},
   "outputs": [],
   "source": []
  },
  {
   "cell_type": "code",
   "execution_count": 89,
   "id": "58b5fc40",
   "metadata": {},
   "outputs": [],
   "source": [
    "# Repetition\n",
    "repeat = string1 * 3  # \"HelloHelloHello\""
   ]
  },
  {
   "cell_type": "code",
   "execution_count": 90,
   "id": "4d6544c6",
   "metadata": {},
   "outputs": [
    {
     "data": {
      "text/plain": [
       "'Hello Hello Hello '"
      ]
     },
     "execution_count": 90,
     "metadata": {},
     "output_type": "execute_result"
    }
   ],
   "source": [
    "repeat"
   ]
  },
  {
   "cell_type": "code",
   "execution_count": 100,
   "id": "835ac533",
   "metadata": {},
   "outputs": [],
   "source": [
    "# Slicing\n",
    "slice = string1[2:4]  # \"ell\""
   ]
  },
  {
   "cell_type": "code",
   "execution_count": 101,
   "id": "55055268",
   "metadata": {},
   "outputs": [
    {
     "data": {
      "text/plain": [
       "'ll'"
      ]
     },
     "execution_count": 101,
     "metadata": {},
     "output_type": "execute_result"
    }
   ],
   "source": [
    "slice"
   ]
  },
  {
   "cell_type": "code",
   "execution_count": 104,
   "id": "b3982e40",
   "metadata": {},
   "outputs": [],
   "source": [
    "x = \"rattle snake boy\""
   ]
  },
  {
   "cell_type": "code",
   "execution_count": 105,
   "id": "c418fce5",
   "metadata": {},
   "outputs": [
    {
     "data": {
      "text/plain": [
       "16"
      ]
     },
     "execution_count": 105,
     "metadata": {},
     "output_type": "execute_result"
    }
   ],
   "source": [
    "len(x)"
   ]
  },
  {
   "cell_type": "code",
   "execution_count": null,
   "id": "3700372b",
   "metadata": {},
   "outputs": [],
   "source": [
    "# Length\n",
    "length = len(string1)  # 5"
   ]
  },
  {
   "cell_type": "code",
   "execution_count": null,
   "id": "524603f5",
   "metadata": {},
   "outputs": [],
   "source": [
    "# Practice Questions:\n",
    "# 1. Concatenate two strings.\n",
    "# 2. Slice a string from the 2nd to the 4th character.\n",
    "# 3. Find the length of a string."
   ]
  },
  {
   "cell_type": "markdown",
   "id": "61c2370b",
   "metadata": {},
   "source": [
    "### Type Conversion"
   ]
  },
  {
   "cell_type": "code",
   "execution_count": 108,
   "id": "6c9273c7",
   "metadata": {},
   "outputs": [
    {
     "data": {
      "text/plain": [
       "10"
      ]
     },
     "execution_count": 108,
     "metadata": {},
     "output_type": "execute_result"
    }
   ],
   "source": [
    "# Integer to String\n",
    "num = 10\n",
    "num_str = str(num)  # \"10\"\n",
    "\n",
    "num"
   ]
  },
  {
   "cell_type": "code",
   "execution_count": null,
   "id": "02787c64",
   "metadata": {},
   "outputs": [],
   "source": [
    "# String to Integer\n",
    "str_num = \"10\"\n",
    "num_int = int(str_num)  # 10"
   ]
  },
  {
   "cell_type": "code",
   "execution_count": null,
   "id": "fb8e6580",
   "metadata": {},
   "outputs": [],
   "source": [
    "# Float to Integer\n",
    "float_num = 10.5\n",
    "int_num = int(float_num)  # 10"
   ]
  },
  {
   "cell_type": "code",
   "execution_count": null,
   "id": "fecb2432",
   "metadata": {},
   "outputs": [],
   "source": [
    "# Integer to Float\n",
    "int_to_float = float(num)  # 10.0"
   ]
  },
  {
   "cell_type": "code",
   "execution_count": null,
   "id": "1645da08",
   "metadata": {},
   "outputs": [],
   "source": [
    "# Practice Questions:\n",
    "# 1. Convert a float to an integer.\n",
    "# 2. Convert a string to an integer.\n",
    "# 3. Convert an integer to a string."
   ]
  },
  {
   "cell_type": "markdown",
   "id": "db1b2be5",
   "metadata": {},
   "source": [
    "### Boolean values"
   ]
  },
  {
   "cell_type": "code",
   "execution_count": null,
   "id": "11427467",
   "metadata": {},
   "outputs": [],
   "source": [
    "is_python_fun = True\n",
    "is_sky_green = False"
   ]
  },
  {
   "cell_type": "code",
   "execution_count": null,
   "id": "53e00ba2",
   "metadata": {},
   "outputs": [],
   "source": [
    "# Boolean expressions\n",
    "bool_expr1 = (10 > 5)  # True\n",
    "bool_expr2 = (10 < 5)  # False"
   ]
  },
  {
   "cell_type": "code",
   "execution_count": null,
   "id": "3fc80fb4",
   "metadata": {},
   "outputs": [],
   "source": [
    "# Practice Questions:\n",
    "# 1. Create two boolean variables, one True and one False.\n",
    "# 2. Write a program that prints the result of a boolean expression (e.g., 10 > 3)."
   ]
  },
  {
   "cell_type": "code",
   "execution_count": null,
   "id": "0d2b2312",
   "metadata": {},
   "outputs": [],
   "source": []
  }
 ],
 "metadata": {
  "kernelspec": {
   "display_name": "Python 3 (ipykernel)",
   "language": "python",
   "name": "python3"
  },
  "language_info": {
   "codemirror_mode": {
    "name": "ipython",
    "version": 3
   },
   "file_extension": ".py",
   "mimetype": "text/x-python",
   "name": "python",
   "nbconvert_exporter": "python",
   "pygments_lexer": "ipython3",
   "version": "3.11.5"
  }
 },
 "nbformat": 4,
 "nbformat_minor": 5
}
