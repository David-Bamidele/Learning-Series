{
 "cells": [
  {
   "cell_type": "markdown",
   "id": "0b9508ca",
   "metadata": {},
   "source": [
    "# Data Structures in Python\n",
    "Python provides several built-in data structures. They provide a way to store, retrieve, and manipulate data.\n",
    "1. List\n",
    "2. Tuple\n",
    "3. Dictionary\n",
    "4. Set"
   ]
  },
  {
   "cell_type": "markdown",
   "id": "1ee00e02",
   "metadata": {},
   "source": [
    "### Lists in Python\n",
    "- A list is an ordered collection of items that are mutable (can be changed).\n",
    "- Lists are created using square brackets []."
   ]
  },
  {
   "cell_type": "code",
   "execution_count": null,
   "id": "b6abc131",
   "metadata": {},
   "outputs": [],
   "source": [
    "\"hello\""
   ]
  },
  {
   "cell_type": "code",
   "execution_count": 7,
   "id": "5fea05ba",
   "metadata": {},
   "outputs": [
    {
     "name": "stdout",
     "output_type": "stream",
     "text": [
      "[1, 2, 3, 4, 5]\n"
     ]
    }
   ],
   "source": [
    "# Example of a list\n",
    "my_numbers = [1, 2, 3, 4, 5]\n",
    "print(my_numbers)\n"
   ]
  },
  {
   "cell_type": "code",
   "execution_count": 12,
   "id": "dc347fd5",
   "metadata": {},
   "outputs": [
    {
     "name": "stdout",
     "output_type": "stream",
     "text": [
      "[12, 'hello', 3.14, True, 'Base']\n"
     ]
    }
   ],
   "source": [
    "# Lists can contain different types of elements\n",
    "mixed_list = [12, \"hello\", 3.14, True, \"Base\"]\n",
    "print(mixed_list)"
   ]
  },
  {
   "cell_type": "code",
   "execution_count": null,
   "id": "6ef9592e",
   "metadata": {},
   "outputs": [],
   "source": [
    "# Practice Questions:\n",
    "# 1. Create a list of your favorite fruits.\n",
    "# 2. Create a list that contains numbers, strings, and booleans."
   ]
  },
  {
   "cell_type": "code",
   "execution_count": 16,
   "id": "ced09139",
   "metadata": {},
   "outputs": [
    {
     "name": "stdout",
     "output_type": "stream",
     "text": [
      "['watermelon', 'mango', 'pineapple', 'orange']\n"
     ]
    }
   ],
   "source": [
    "# 1. Create a list of your favorite fruits.\n",
    "\n",
    "Favorite_fruits = [\"watermelon\", \"mango\", \"pineapple\", \"orange\"]\n",
    "print(Favorite_fruits)"
   ]
  },
  {
   "cell_type": "code",
   "execution_count": 20,
   "id": "a2d6aefc",
   "metadata": {},
   "outputs": [
    {
     "name": "stdout",
     "output_type": "stream",
     "text": [
      "['God', 'is', 1, True]\n"
     ]
    }
   ],
   "source": [
    "# 2. Create a list that contains numbers, strings, and booleans.\n",
    "Believer_in_Christ = [\"God\", \"is\", 1, True]\n",
    "print(Believer_in_Christ)"
   ]
  },
  {
   "cell_type": "markdown",
   "id": "95592046",
   "metadata": {},
   "source": [
    "#### How to Manipulate Lists"
   ]
  },
  {
   "cell_type": "markdown",
   "id": "a04e0eac",
   "metadata": {},
   "source": [
    "1. Accessing Elements\n",
    "- Elements in a list can be accessed using their index."
   ]
  },
  {
   "cell_type": "code",
   "execution_count": 22,
   "id": "6b5ae0e3",
   "metadata": {},
   "outputs": [
    {
     "name": "stdout",
     "output_type": "stream",
     "text": [
      "12\n",
      "Base\n"
     ]
    }
   ],
   "source": [
    "print(mixed_list[0])  # First element\n",
    "print(mixed_list[-1])  # Last element"
   ]
  },
  {
   "cell_type": "code",
   "execution_count": 23,
   "id": "8ff52edc",
   "metadata": {},
   "outputs": [
    {
     "name": "stdout",
     "output_type": "stream",
     "text": [
      "1\n",
      "5\n"
     ]
    }
   ],
   "source": [
    "print(my_list[0])  # First element\n",
    "print(my_list[-1])  # Last element"
   ]
  },
  {
   "cell_type": "markdown",
   "id": "c2d44dc1",
   "metadata": {},
   "source": [
    "2. Adding Elements\n",
    "- You can add elements to a list using append(), insert(), or extend()."
   ]
  },
  {
   "cell_type": "code",
   "execution_count": 37,
   "id": "01634cad",
   "metadata": {},
   "outputs": [
    {
     "name": "stdout",
     "output_type": "stream",
     "text": [
      "[1, 2, 2.5, 2.5, 2.5, 3, 4, 5, 6, 7, 8, 6, 6, 6, 7, 8, 6, 6]\n"
     ]
    }
   ],
   "source": [
    "my_list.append(6)  # Adds 6 at the end\n",
    "print(my_list)"
   ]
  },
  {
   "cell_type": "code",
   "execution_count": 34,
   "id": "72a5357e",
   "metadata": {},
   "outputs": [
    {
     "name": "stdout",
     "output_type": "stream",
     "text": [
      "[1, 2, 2.5, 2.5, 2.5, 3, 4, 5, 6, 7, 8, 6, 6, 6]\n"
     ]
    }
   ],
   "source": [
    "my_list.insert(2, 2.5)  # Inserts 2.5 at index 2\n",
    "print(my_list)"
   ]
  },
  {
   "cell_type": "code",
   "execution_count": 35,
   "id": "93427b32",
   "metadata": {},
   "outputs": [
    {
     "name": "stdout",
     "output_type": "stream",
     "text": [
      "[1, 2, 2.5, 2.5, 2.5, 3, 4, 5, 6, 7, 8, 6, 6, 6, 7, 8]\n"
     ]
    }
   ],
   "source": [
    "my_list.extend([7, 8])  # Adds multiple elements at the end\n",
    "print(my_list)"
   ]
  },
  {
   "cell_type": "markdown",
   "id": "fe592286",
   "metadata": {},
   "source": [
    "3. Removing Elements\n",
    "- You can remove elements using remove(), pop(), or del."
   ]
  },
  {
   "cell_type": "code",
   "execution_count": 38,
   "id": "b9b63a64",
   "metadata": {},
   "outputs": [
    {
     "name": "stdout",
     "output_type": "stream",
     "text": [
      "[1, 2, 2.5, 2.5, 3, 4, 5, 6, 7, 8, 6, 6, 6, 7, 8, 6, 6]\n"
     ]
    }
   ],
   "source": [
    "my_list.remove(2.5)  # Removes the first occurrence of 2.5\n",
    "print(my_list)"
   ]
  },
  {
   "cell_type": "code",
   "execution_count": 45,
   "id": "c6c0ff6e",
   "metadata": {},
   "outputs": [
    {
     "name": "stdout",
     "output_type": "stream",
     "text": [
      "[1, 2, 2.5, 6, 7, 8, 6, 6, 8, 6]\n"
     ]
    }
   ],
   "source": [
    "my_list.pop(8)  # Removes the last element\n",
    "print(my_list)"
   ]
  },
  {
   "cell_type": "code",
   "execution_count": 49,
   "id": "50c71fe1",
   "metadata": {},
   "outputs": [
    {
     "name": "stdout",
     "output_type": "stream",
     "text": [
      "[1, 2.5, 6, 6, 8, 6]\n"
     ]
    }
   ],
   "source": [
    "del my_list[2]  # Removes the element at index 1\n",
    "print(my_list)"
   ]
  },
  {
   "cell_type": "markdown",
   "id": "f7af5c08",
   "metadata": {},
   "source": [
    "4. Slicing\n",
    "- You can slice a list to get a sublist."
   ]
  },
  {
   "cell_type": "code",
   "execution_count": 50,
   "id": "332f579a",
   "metadata": {},
   "outputs": [
    {
     "name": "stdout",
     "output_type": "stream",
     "text": [
      "[2.5, 6, 6]\n"
     ]
    }
   ],
   "source": [
    "sublist = my_list[1:4]  # Elements from index 1 to 3\n",
    "print(sublist)"
   ]
  },
  {
   "cell_type": "code",
   "execution_count": 51,
   "id": "ac8cce78",
   "metadata": {},
   "outputs": [
    {
     "data": {
      "text/plain": [
       "[6, 8, 6, 6, 2.5, 1]"
      ]
     },
     "execution_count": 51,
     "metadata": {},
     "output_type": "execute_result"
    }
   ],
   "source": [
    "my_list[::-1]"
   ]
  },
  {
   "cell_type": "markdown",
   "id": "92286b94",
   "metadata": {},
   "source": [
    "5. List Comprehension\n",
    "- List comprehensions provide a concise way to create lists."
   ]
  },
  {
   "cell_type": "code",
   "execution_count": 56,
   "id": "4ea6769e",
   "metadata": {},
   "outputs": [
    {
     "name": "stdout",
     "output_type": "stream",
     "text": [
      "[0, 1, 4, 9, 16, 25, 36, 49, 64, 81]\n"
     ]
    }
   ],
   "source": [
    "squares= [x**2 for x in [0,1,2,3,4,5,6,7,8,9]]\n",
    "print(squares)"
   ]
  },
  {
   "cell_type": "code",
   "execution_count": 61,
   "id": "059fea70",
   "metadata": {},
   "outputs": [
    {
     "name": "stdout",
     "output_type": "stream",
     "text": [
      "[0, 1, 4, 9, 16, 25, 36, 49, 64, 81]\n"
     ]
    }
   ],
   "source": [
    "squares = [x**2 for x in range(10)]\n",
    "print(squares)"
   ]
  },
  {
   "cell_type": "code",
   "execution_count": 63,
   "id": "6710a8f9",
   "metadata": {},
   "outputs": [
    {
     "data": {
      "text/plain": [
       "[0, 1, 4, 9, 16, 25, 12467, 49, 64, 81]"
      ]
     },
     "execution_count": 63,
     "metadata": {},
     "output_type": "execute_result"
    }
   ],
   "source": [
    "squares[6] = 12467\n",
    "squares"
   ]
  },
  {
   "cell_type": "code",
   "execution_count": null,
   "id": "1707c66c",
   "metadata": {},
   "outputs": [],
   "source": [
    "# Practice Questions:\n",
    "# 1. Create a list of numbers from 1 to 5, then add the number 6 to the list.\n",
    "# 2. Remove the second element from the list.\n",
    "# 3. Slice the list to get the last three elements.\n",
    "# 4. Create a list of the cubes of numbers from 1 to 10 using list comprehension."
   ]
  },
  {
   "cell_type": "code",
   "execution_count": 70,
   "id": "03a96fcb",
   "metadata": {},
   "outputs": [
    {
     "name": "stdout",
     "output_type": "stream",
     "text": [
      "[1, 2, 3, 4, 5]\n",
      "[1, 2, 3, 4, 5, 6]\n"
     ]
    }
   ],
   "source": [
    "# 1. Create a list of numbers from 1 to 5, then add the number 6 to the list.\n",
    "\n",
    "David_list = [1,2,3,4,5]\n",
    "print(David_list)\n",
    "\n",
    "David_list.append(6)\n",
    "print(David_list)"
   ]
  },
  {
   "cell_type": "code",
   "execution_count": 76,
   "id": "6f9e09e0",
   "metadata": {},
   "outputs": [
    {
     "name": "stdout",
     "output_type": "stream",
     "text": [
      "[2, 4, 5, 6, 1]\n"
     ]
    }
   ],
   "source": [
    "# 2. Remove the second element from the list.\n",
    "David_list.remove(3)\n",
    "print(David_list)"
   ]
  },
  {
   "cell_type": "code",
   "execution_count": 86,
   "id": "fd0c1e5c",
   "metadata": {},
   "outputs": [
    {
     "name": "stdout",
     "output_type": "stream",
     "text": [
      "[5, 6, 1]\n"
     ]
    }
   ],
   "source": [
    "# 3. Slice the list to get the last three elements.\n",
    "sublist = David_list[-3:]\n",
    "print(sublist)\n"
   ]
  },
  {
   "cell_type": "code",
   "execution_count": null,
   "id": "35ffba53",
   "metadata": {},
   "outputs": [],
   "source": [
    "# 4. Create a list of the cubes of numbers from 1 to 10 using list comprehension.\n"
   ]
  },
  {
   "cell_type": "code",
   "execution_count": 87,
   "id": "13206906",
   "metadata": {},
   "outputs": [
    {
     "name": "stdout",
     "output_type": "stream",
     "text": [
      "[0, 1, 8, 27, 64, 125, 216, 343, 512, 729]\n"
     ]
    }
   ],
   "source": [
    "cubes = [x**3 for x in range(10)]\n",
    "print(cubes)"
   ]
  },
  {
   "cell_type": "code",
   "execution_count": 65,
   "id": "b01da15d",
   "metadata": {},
   "outputs": [
    {
     "name": "stdout",
     "output_type": "stream",
     "text": [
      "[1, 2, 3]\n"
     ]
    }
   ],
   "source": [
    "a, b, c, d = 5, 3.2, \"Hello\", [1,2,3]\n",
    "\n",
    "print(d)"
   ]
  },
  {
   "cell_type": "code",
   "execution_count": 24,
   "id": "72268fe6",
   "metadata": {},
   "outputs": [
    {
     "data": {
      "text/plain": [
       "False"
      ]
     },
     "execution_count": 24,
     "metadata": {},
     "output_type": "execute_result"
    }
   ],
   "source": [
    "6 not in d"
   ]
  },
  {
   "cell_type": "markdown",
   "id": "25506a67",
   "metadata": {},
   "source": [
    "### Tuples in Python\n",
    "\n",
    "- A tuple is an ordered collection of items that are immutable (cannot be changed).\n",
    "- Tuples are created using parentheses ()."
   ]
  },
  {
   "cell_type": "code",
   "execution_count": null,
   "id": "d6e28dc1",
   "metadata": {},
   "outputs": [],
   "source": [
    "# Example of a tuple\n",
    "my_tuple = (1, 2, 3, 4, 5)\n",
    "print(my_tuple)"
   ]
  },
  {
   "cell_type": "code",
   "execution_count": null,
   "id": "1f897619",
   "metadata": {},
   "outputs": [],
   "source": [
    "# Tuples can contain different types of elements\n",
    "mixed_tuple = (1, \"hello\", 3.14, True)\n",
    "print(mixed_tuple)"
   ]
  },
  {
   "cell_type": "markdown",
   "id": "4d0a6db2",
   "metadata": {},
   "source": [
    "Accessing Elements\n",
    "- Elements in a tuple can be accessed using their index."
   ]
  },
  {
   "cell_type": "code",
   "execution_count": null,
   "id": "657ccd0c",
   "metadata": {},
   "outputs": [],
   "source": [
    "print(my_tuple[0])  # First element\n",
    "print(my_tuple[-1])  # Last element"
   ]
  },
  {
   "cell_type": "code",
   "execution_count": null,
   "id": "18666e59",
   "metadata": {},
   "outputs": [],
   "source": [
    "# Practice Questions:\n",
    "# 1. Create a tuple of your favorite colors.\n",
    "# 2. Try changing an element in the tuple and observe what happens.\n",
    "# 3. Access the first and last elements of the tuple."
   ]
  },
  {
   "cell_type": "markdown",
   "id": "566acf76",
   "metadata": {},
   "source": [
    "### Tuples vs Lists\n",
    "- Tuples are immutable, while lists are mutable.\n",
    "- Tuples use less memory and are faster than lists.\n",
    "- Tuples can be used as keys in dictionaries, while lists cannot."
   ]
  },
  {
   "cell_type": "markdown",
   "id": "42898dfb",
   "metadata": {},
   "source": [
    "### Advanced List Operations"
   ]
  },
  {
   "cell_type": "markdown",
   "id": "cb5afc50",
   "metadata": {},
   "source": [
    "1. Sorting\n",
    "- You can sort a list using the sort() method or the sorted() function."
   ]
  },
  {
   "cell_type": "code",
   "execution_count": 88,
   "id": "adf0ca69",
   "metadata": {},
   "outputs": [
    {
     "name": "stdout",
     "output_type": "stream",
     "text": [
      "[1, 1, 2, 3, 4, 5, 5, 6, 9]\n"
     ]
    }
   ],
   "source": [
    "my_list = [3, 1, 4, 1, 5, 9, 2, 6, 5]\n",
    "my_list.sort()  # Sorts the list in place\n",
    "print(my_list)"
   ]
  },
  {
   "cell_type": "code",
   "execution_count": 89,
   "id": "a95bccb2",
   "metadata": {},
   "outputs": [
    {
     "name": "stdout",
     "output_type": "stream",
     "text": [
      "[9, 6, 5, 5, 4, 3, 2, 1, 1]\n"
     ]
    }
   ],
   "source": [
    "sorted_list = sorted(my_list, reverse=True)  # Returns a new sorted list\n",
    "print(sorted_list)"
   ]
  },
  {
   "cell_type": "code",
   "execution_count": 91,
   "id": "ad57b219",
   "metadata": {},
   "outputs": [],
   "source": [
    "sorted_list = sorted(my_list)"
   ]
  },
  {
   "cell_type": "markdown",
   "id": "dcc5a791",
   "metadata": {},
   "source": [
    "2. Reversing\n",
    "- You can reverse a list using the reverse() method or slicing."
   ]
  },
  {
   "cell_type": "code",
   "execution_count": null,
   "id": "5dc75c45",
   "metadata": {},
   "outputs": [],
   "source": [
    "my_list.reverse()  # Reverses the list in place\n",
    "print(my_list)"
   ]
  },
  {
   "cell_type": "code",
   "execution_count": null,
   "id": "066a5bb0",
   "metadata": {},
   "outputs": [],
   "source": [
    "reversed_list = my_list[::-1]  # Returns a new reversed list\n",
    "print(reversed_list)"
   ]
  },
  {
   "cell_type": "code",
   "execution_count": null,
   "id": "38c16983",
   "metadata": {},
   "outputs": [],
   "source": [
    "# Practice Questions:\n",
    "# 1. Create a list of random numbers and sort it.\n",
    "# 2. Reverse the sorted list and print the result.\n",
    "# 3. Create a list of words and sort them in alphabetical order."
   ]
  }
 ],
 "metadata": {
  "kernelspec": {
   "display_name": "Python 3 (ipykernel)",
   "language": "python",
   "name": "python3"
  },
  "language_info": {
   "codemirror_mode": {
    "name": "ipython",
    "version": 3
   },
   "file_extension": ".py",
   "mimetype": "text/x-python",
   "name": "python",
   "nbconvert_exporter": "python",
   "pygments_lexer": "ipython3",
   "version": "3.11.5"
  }
 },
 "nbformat": 4,
 "nbformat_minor": 5
}
