{
 "cells": [
  {
   "cell_type": "markdown",
   "id": "0e28f411",
   "metadata": {},
   "source": [
    "## Word Guessing Game"
   ]
  },
  {
   "cell_type": "markdown",
   "id": "14024bd4",
   "metadata": {},
   "source": [
    "1. **Task Description**:\n",
    "Create a game that allows a player to guess a word chosen randomly from a predefined list of words.\n",
    "\n",
    "2. **Instructions**:\n",
    "     - **Step 1**: Import the `random` module.\n",
    "     - **Step 2**: Create a list of words called `words_list` containing several words.\n",
    "     - **Step 3**: Print a welcome message to the player, informing them about the game and displaying the list of words they can guess from.\n",
    "     - **Step 4**: Use the `random.choice()` function to select a random word from the `words_list` and assign it to the variable `word_to_guess`.\n",
    "     - **Step 5**: Create a boolean variable called `guessed_correctly` and set it to `False`. This variable will track whether the player has guessed the word correctly.\n",
    "     - **Step 6**: Start a `while` loop that continues until `guessed_correctly` is `True`.\n",
    "     - **Step 7**: Inside the loop, prompt the player to enter their guess using the `input()` function. Strip any leading or trailing whitespace from the input and convert it to lowercase.\n",
    "     - **Step 8**: Check if the guess matches the `word_to_guess`. If it does, print a congratulatory message informing the player that they have guessed the word correctly and set `guessed_correctly` to `True` to end the loop.\n",
    "     - **Step 9**: If the guess is incorrect, inform the player that their guess is incorrect and prompt them to guess again.\n",
    "     - **Step 10**: Continue looping until the player guesses the word correctly."
   ]
  },
  {
   "cell_type": "code",
   "execution_count": 12,
   "id": "01870ddf",
   "metadata": {},
   "outputs": [
    {
     "name": "stdout",
     "output_type": "stream",
     "text": [
      "Welcome Kingdom Men to the new life\n",
      "\n",
      "\n",
      "in this game pick any word let's see how apt your guessing power is\n",
      "['Kingdom', 'Of', 'Our', 'God', 'And', 'His', 'Christ']\n",
      "his\n",
      "Type in your guess:of\n",
      "You did great, retry!\n",
      "his\n",
      "Type in your guess:his\n",
      "Woww, You did it!\n"
     ]
    }
   ],
   "source": [
    "import random \n",
    "\n",
    "words_list = [\"Kingdom\", \"Of\", \"Our\", \"God\", \"And\", \"His\", \"Christ\"] \n",
    "\n",
    "print(\"Welcome Kingdom Men to the new life\\n\\n\")\n",
    "print (\"in this game pick any word let's see how apt your guessing power is\")\n",
    "print(words_list)\n",
    "\n",
    "word_to_guess = random.choice(words_list).lower()\n",
    "\n",
    "guessed_correctly = False \n",
    "\n",
    "while not guessed_correctly:\n",
    "    print(word_to_guess)\n",
    "    guess = input(\"Type in your guess:\").lower().strip()\n",
    "\n",
    "    \n",
    "    if word_to_guess == guess:\n",
    "        print(\"Woww, You did it!\")\n",
    "        guessed_correctly = True\n",
    "    else: \n",
    "        print(\"You did great, retry!\")"
   ]
  },
  {
   "cell_type": "markdown",
   "id": "7f14900f",
   "metadata": {},
   "source": [
    "# Objective\n",
    "The objective of the game is to guess a randomly generated number between 1 and 100.\n",
    "\n",
    "Description: \n",
    "\n",
    "Guess the Number is a single-player game where the player is prompted to guess a number between 1 and 100. The game provides feedback to the player if their guess is too high or too low until they correctly guess the number.\n",
    "\n",
    "Instructions:\n",
    "\n",
    "Use the 'input' function to prompt the player to enter their guess as a string.\n",
    "Use the 'int' function to convert the player's guess to an integer.\n",
    "Use the 'import' statement to import the 'random' module.\n",
    "Use the 'random.randint()' function to generate a random integer between 1 and 100.\n",
    "Use an 'if/else' statement to check if the player's guess is too high, too low, or correct.\n",
    "Use the 'print' function to provide feedback to the player based on their guess.\n",
    "Use a 'while' loop to continue prompting the player for guesses until they correctly guess the number.\n",
    "\n",
    "Example :\n",
    "\n",
    "Welcome to the Guess the Number game!\n",
    "I'm thinking of a number between 1 and 100. Can you guess what it is?\n",
    "Enter your guess: 50\n",
    "Your guess is too high. Guess again.\n",
    "Enter your guess: 25\n",
    "Your guess is too low. Guess again.\n",
    "Enter your guess: 37\n",
    "\n",
    "Your guess is too high. Guess again.\n",
    "\n",
    "Enter your guess: 31\n",
    "\n",
    "Congratulations! You guessed the number correctly!"
   ]
  },
  {
   "cell_type": "code",
   "execution_count": 13,
   "id": "fe274c64",
   "metadata": {},
   "outputs": [
    {
     "name": "stdout",
     "output_type": "stream",
     "text": [
      "Welcome to the Guess the Number game!\n",
      "I'm thinking of a number between 1 and 10. Can you guess what it is?\n",
      "[1, 2, 3, 4, 5, 6, 7, 8, 9, 10]\n",
      "8\n",
      "Type in your guess:5\n",
      "Your guess is too low. Guess again.\n",
      "Type in your guess:9\n",
      "Your guess is too high. Guess again.\n",
      "Type in your guess:8\n",
      "Congratulations! You guessed the number correctly!\n"
     ]
    }
   ],
   "source": [
    "number_list = list(range(1,11)) # Create a list in a range of 1-10\n",
    "\n",
    "print(\"Welcome to the Guess the Number game!\")\n",
    "print(\"I'm thinking of a number between 1 and 10. Can you guess what it is?\")\n",
    "print(number_list)\n",
    "\n",
    "import random\n",
    "random_guess = random.randint(1,10)\n",
    "print(random_guess)\n",
    "\n",
    "while True:\n",
    "    guess = input(\"Type in your guess:\")\n",
    "    guess = int(guess)\n",
    "    \n",
    "    if random_guess == guess:\n",
    "        print(\"Congratulations! You guessed the number correctly!\")\n",
    "        break\n",
    "        \n",
    "    elif guess > random_guess:\n",
    "        print(\"Your guess is too high. Guess again.\")\n",
    "    elif guess < random_guess:\n",
    "        print(\"Your guess is too low. Guess again.\")\n",
    "    \n",
    "    else:\n",
    "        print(\"Invalid input! Pick a number between 1 and 10\")"
   ]
  },
  {
   "cell_type": "code",
   "execution_count": null,
   "id": "4eab068a",
   "metadata": {},
   "outputs": [],
   "source": []
  }
 ],
 "metadata": {
  "kernelspec": {
   "display_name": "Python 3 (ipykernel)",
   "language": "python",
   "name": "python3"
  },
  "language_info": {
   "codemirror_mode": {
    "name": "ipython",
    "version": 3
   },
   "file_extension": ".py",
   "mimetype": "text/x-python",
   "name": "python",
   "nbconvert_exporter": "python",
   "pygments_lexer": "ipython3",
   "version": "3.11.5"
  }
 },
 "nbformat": 4,
 "nbformat_minor": 5
}
