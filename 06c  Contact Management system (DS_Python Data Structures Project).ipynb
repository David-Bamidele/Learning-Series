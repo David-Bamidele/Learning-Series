{
 "cells": [
  {
   "cell_type": "markdown",
   "id": "d1e6e2e4",
   "metadata": {},
   "source": [
    "### A simple contact management system.\n",
    "\n",
    "**This system will allow users to:**\n",
    "\n",
    "1. Store contacts (names and phone numbers) in a list.\n",
    "2. Add a contact to the list.\n",
    "3. Remove a specific contact from the list.\n",
    "4. Check if a specific contact is in the list.\n",
    "5. Display the list of contacts.\n",
    "6. Provide a menu to choose from the options."
   ]
  },
  {
   "cell_type": "code",
   "execution_count": 9,
   "id": "3e0178b1",
   "metadata": {
    "scrolled": true
   },
   "outputs": [
    {
     "name": "stdout",
     "output_type": "stream",
     "text": [
      "Contact Management Menu:\n",
      "1. Add a contact\n",
      "2. Remove a specific contact\n",
      "3. Check if a specific contact is in the list\n",
      "4. Display the list\n",
      "5. Quit\n"
     ]
    },
    {
     "ename": "NameError",
     "evalue": "name 'n' is not defined",
     "output_type": "error",
     "traceback": [
      "\u001b[0;31m---------------------------------------------------------------------------\u001b[0m",
      "\u001b[0;31mNameError\u001b[0m                                 Traceback (most recent call last)",
      "Cell \u001b[0;32mIn[9], line 11\u001b[0m\n\u001b[1;32m      9\u001b[0m \u001b[38;5;28mprint\u001b[39m(\u001b[38;5;124m\"\u001b[39m\u001b[38;5;124m3. Check if a specific contact is in the list\u001b[39m\u001b[38;5;124m\"\u001b[39m)\n\u001b[1;32m     10\u001b[0m \u001b[38;5;28mprint\u001b[39m(\u001b[38;5;124m\"\u001b[39m\u001b[38;5;124m4. Display the list\u001b[39m\u001b[38;5;124m\"\u001b[39m)\n\u001b[0;32m---> 11\u001b[0m \u001b[38;5;28mprint\u001b[39m(\u001b[38;5;124m\"\u001b[39m\u001b[38;5;124m5. Quit\u001b[39m\u001b[38;5;124m\"\u001b[39m)\u001b[38;5;241m/\u001b[39mn\u001b[38;5;241m/\u001b[39mn\n\u001b[1;32m     13\u001b[0m \u001b[38;5;66;03m# Get user choice\u001b[39;00m\n\u001b[1;32m     14\u001b[0m choice \u001b[38;5;241m=\u001b[39m \u001b[38;5;28minput\u001b[39m(\u001b[38;5;124m\"\u001b[39m\u001b[38;5;124mChoose an option (1-5): \u001b[39m\u001b[38;5;124m\"\u001b[39m)\n",
      "\u001b[0;31mNameError\u001b[0m: name 'n' is not defined"
     ]
    }
   ],
   "source": [
    "# Initialize the contact list (an empty list)\n",
    "contact_list = []\n",
    "\n",
    "while True:\n",
    "    # Display the menu\n",
    "    print(\"Contact Management Menu:\")\n",
    "    print(\"1. Add a contact\")\n",
    "    print(\"2. Remove a specific contact\")\n",
    "    print(\"3. Check if a specific contact is in the list\")\n",
    "    print(\"4. Display the list\")\n",
    "    print(\"5. Quit\")/n/n\n",
    "    \n",
    "    # Get user choice\n",
    "    choice = input(\"Choose an option (1-5): \")\n",
    "    \n",
    "    if choice == '1':\n",
    "        # Add a contact\n",
    "        name = input(\"Enter the contact name: \")\n",
    "        phone = input(\"Enter the contact phone number: \")\n",
    "        contact_list.append((name, phone))  # Add the contact as a tuple (a data type in Python)\n",
    "        print(f\"Contact '{name}' added to the list.\")\n",
    "    \n",
    "    elif choice == '2':\n",
    "        # Remove a specific contact\n",
    "        name = input(\"Enter the contact name to remove: \")\n",
    "        contact_list.remove(name)  # Remove the contact from the list\n",
    "           \n",
    "    elif choice == '3':\n",
    "        # Check if a specific contact is in the list\n",
    "        name = input(\"Enter the contact name to check: \")\n",
    "        # Find the contact by name\n",
    "        for c in contact_list:  \n",
    "            if c[0] == name:\n",
    "                print(f\"{name} is in the list\")\n",
    "            else:\n",
    "                print(f\"{name} isn't in the list\")\n",
    "    \n",
    "    elif choice == '4':\n",
    "        # Display the list\n",
    "        if contact_list:\n",
    "            print(\"Contact List:\")\n",
    "            for i, (name, phone) in enumerate(contact_list, 1):  # Enumerate through the contact list\n",
    "                print(f\"{i}. {name}: {phone}\")\n",
    "        else:\n",
    "            print(\"The list is empty.\")\n",
    "    \n",
    "    elif choice == '5':\n",
    "        # Quit the program\n",
    "        print(\"Quitting the program. Goodbye!\")\n",
    "        break\n",
    "    \n",
    "    else:\n",
    "        # Handle invalid input\n",
    "        print(\"Invalid choice. Please choose a valid option.\")\n"
   ]
  },
  {
   "cell_type": "code",
   "execution_count": null,
   "id": "9dffdd57",
   "metadata": {},
   "outputs": [],
   "source": []
  }
 ],
 "metadata": {
  "kernelspec": {
   "display_name": "Python 3 (ipykernel)",
   "language": "python",
   "name": "python3"
  },
  "language_info": {
   "codemirror_mode": {
    "name": "ipython",
    "version": 3
   },
   "file_extension": ".py",
   "mimetype": "text/x-python",
   "name": "python",
   "nbconvert_exporter": "python",
   "pygments_lexer": "ipython3",
   "version": "3.11.5"
  }
 },
 "nbformat": 4,
 "nbformat_minor": 5
}
