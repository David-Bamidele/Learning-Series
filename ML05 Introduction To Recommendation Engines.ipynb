{
 "cells": [
  {
   "cell_type": "markdown",
   "id": "2428b088",
   "metadata": {},
   "source": [
    "# Introduction To Recommendation Engines\n",
    "Recommendation engines (or systems) are algorithms that suggest relevant items to users based on their preferences, behavior, or patterns. They are widely used in e-commerce, media streaming, and social media to enhance user experience and drive engagement.\n",
    "\n",
    "#### **Real-world Examples**:\n",
    "- **Amazon**: \"Customers who bought this also bought...\"\n",
    "- **Netflix**: \"Because you watched...\"\n",
    "- **Spotify**: \"Recommended songs for you\""
   ]
  },
  {
   "cell_type": "markdown",
   "id": "5e1e9dfc",
   "metadata": {},
   "source": [
    "### **Types of Recommendation Systems**:\n",
    "Recommendation engines can be classified into several types:\n",
    "\n",
    "#### **A. Collaborative Filtering**:\n",
    "Collaborative filtering is based on user behavior, i.e., it recommends items that similar users liked.\n",
    "- **User-based Collaborative Filtering**:     This method recommends items to a user based on what similar users have liked. It involves:\n",
    "    1. Finding similar users (using similarity measures like cosine similarity).\n",
    "    2. Recommending items that similar users liked but the current user hasn't interacted with yet.\n",
    "\n",
    "- **Item-based Collaborative Filtering**: Instead of finding similar users, item-based collaborative filtering recommends items based on the similarity between items.\n",
    "    1. Calculate similarity between items.\n",
    "    2. Recommend items similar to those the user has interacted with.\n",
    "\n",
    "#### **B. Content-based Filtering**:\n",
    "This approach suggests items based on the features of the items that the user has shown interest in. For example, if a user likes action movies, the system will recommend other action movies based on their descriptions.\n",
    "\n",
    "#### **C. Hybrid Methods**:\n",
    "A hybrid recommendation system combines the strengths of collaborative and content-based filtering to improve accuracy. This could be done by averaging the predictions of both models or by using collaborative filtering when sufficient user data is available, and content-based when the data is sparse.\n",
    "\n",
    "**Example**: \n",
    "- Netflix uses a hybrid approach, combining collaborative filtering for personalized recommendations and content-based filtering to recommend movies with similar themes or genres."
   ]
  },
  {
   "cell_type": "markdown",
   "id": "466d79e4",
   "metadata": {},
   "source": [
    "### **Metrics for Recommendation Systems**:\n",
    "- **Accuracy**: How well the recommendations match the user's preferences.\n",
    "- **Precision**: The fraction of relevant recommendations out of all recommendations.\n",
    "- **Recall**: The fraction of relevant items that were recommended."
   ]
  },
  {
   "cell_type": "markdown",
   "id": "ba7f269b",
   "metadata": {},
   "source": [
    "## Collaborative Filtering Recommendation System For Movies\n",
    "- In this section, we will implement **Collaborative Filtering** using Python with the **Surprise** library.\n",
    "- We’ll use the MovieLens dataset, which contains user ratings for movies."
   ]
  },
  {
   "cell_type": "markdown",
   "id": "d1c1fcd0",
   "metadata": {},
   "source": [
    "### **Step 1: Install and Import Required Libraries**"
   ]
  },
  {
   "cell_type": "code",
   "execution_count": 1,
   "id": "84a60ead",
   "metadata": {},
   "outputs": [
    {
     "name": "stdout",
     "output_type": "stream",
     "text": [
      "Collecting scikit-surprise\n",
      "  Using cached scikit_surprise-1.1.4.tar.gz (154 kB)\n",
      "  Installing build dependencies ... \u001b[?25ldone\n",
      "\u001b[?25h  Getting requirements to build wheel ... \u001b[?25ldone\n",
      "\u001b[?25h  Preparing metadata (pyproject.toml) ... \u001b[?25ldone\n",
      "\u001b[?25hRequirement already satisfied: joblib>=1.2.0 in /opt/anaconda3/lib/python3.12/site-packages (from scikit-surprise) (1.4.2)\n",
      "Requirement already satisfied: numpy>=1.19.5 in /opt/anaconda3/lib/python3.12/site-packages (from scikit-surprise) (1.26.4)\n",
      "Requirement already satisfied: scipy>=1.6.0 in /opt/anaconda3/lib/python3.12/site-packages (from scikit-surprise) (1.13.1)\n",
      "Building wheels for collected packages: scikit-surprise\n",
      "  Building wheel for scikit-surprise (pyproject.toml) ... \u001b[?25ldone\n",
      "\u001b[?25h  Created wheel for scikit-surprise: filename=scikit_surprise-1.1.4-cp312-cp312-macosx_10_15_x86_64.whl size=513452 sha256=aff183b412766157ca4496948f06874e65b293cc92d21500a07004dd4ac8cb65\n",
      "  Stored in directory: /Users/bambammain/Library/Caches/pip/wheels/75/fa/bc/739bc2cb1fbaab6061854e6cfbb81a0ae52c92a502a7fa454b\n",
      "Successfully built scikit-surprise\n",
      "Installing collected packages: scikit-surprise\n",
      "Successfully installed scikit-surprise-1.1.4\n"
     ]
    }
   ],
   "source": [
    "# Install the necessary library for scikit-surprise (uncomment if you haven't installed it yet)\n",
    "!pip install scikit-surprise\n",
    "\n",
    "# Importing necessary modules from the Surprise library\n",
    "# Dataset: Used for loading and manipulating datasets\n",
    "# Reader: Helps define the format of the data to be used in the Dataset\n",
    "from surprise import Dataset, Reader\n",
    "\n",
    "# Import train_test_split from the model_selection module\n",
    "# This will be used to split the dataset into training and testing sets\n",
    "from surprise.model_selection import train_test_split\n",
    "\n",
    "# Import KNNBasic, which is a basic k-nearest neighbors algorithm implementation\n",
    "from surprise import KNNBasic\n",
    "\n",
    "# Import accuracy to calculate prediction accuracy on the test set\n",
    "from surprise import accuracy\n",
    "\n",
    "# Import KFold for cross-validation to split the dataset into k folds\n",
    "from surprise.model_selection import KFold\n",
    "\n",
    "# Import Pandas for data manipulation\n",
    "import pandas as pd"
   ]
  },
  {
   "cell_type": "markdown",
   "id": "8274df47",
   "metadata": {},
   "source": [
    "#### **Step 2: Load the Data**"
   ]
  },
  {
   "cell_type": "code",
   "execution_count": 3,
   "id": "3fee31af",
   "metadata": {},
   "outputs": [
    {
     "name": "stdout",
     "output_type": "stream",
     "text": [
      "Dataset ml-100k could not be found. Do you want to download it? [Y/n] "
     ]
    },
    {
     "name": "stdin",
     "output_type": "stream",
     "text": [
      " Y\n"
     ]
    },
    {
     "name": "stdout",
     "output_type": "stream",
     "text": [
      "Trying to download dataset from https://files.grouplens.org/datasets/movielens/ml-100k.zip...\n",
      "Done! Dataset ml-100k has been saved to /Users/bambammain/.surprise_data/ml-100k\n"
     ]
    },
    {
     "data": {
      "text/html": [
       "<div>\n",
       "<style scoped>\n",
       "    .dataframe tbody tr th:only-of-type {\n",
       "        vertical-align: middle;\n",
       "    }\n",
       "\n",
       "    .dataframe tbody tr th {\n",
       "        vertical-align: top;\n",
       "    }\n",
       "\n",
       "    .dataframe thead th {\n",
       "        text-align: right;\n",
       "    }\n",
       "</style>\n",
       "<table border=\"1\" class=\"dataframe\">\n",
       "  <thead>\n",
       "    <tr style=\"text-align: right;\">\n",
       "      <th></th>\n",
       "      <th>user_id</th>\n",
       "      <th>item_id</th>\n",
       "      <th>rating</th>\n",
       "      <th>timestamp</th>\n",
       "    </tr>\n",
       "  </thead>\n",
       "  <tbody>\n",
       "    <tr>\n",
       "      <th>0</th>\n",
       "      <td>196</td>\n",
       "      <td>242</td>\n",
       "      <td>3.0</td>\n",
       "      <td>881250949</td>\n",
       "    </tr>\n",
       "    <tr>\n",
       "      <th>1</th>\n",
       "      <td>186</td>\n",
       "      <td>302</td>\n",
       "      <td>3.0</td>\n",
       "      <td>891717742</td>\n",
       "    </tr>\n",
       "    <tr>\n",
       "      <th>2</th>\n",
       "      <td>22</td>\n",
       "      <td>377</td>\n",
       "      <td>1.0</td>\n",
       "      <td>878887116</td>\n",
       "    </tr>\n",
       "    <tr>\n",
       "      <th>3</th>\n",
       "      <td>244</td>\n",
       "      <td>51</td>\n",
       "      <td>2.0</td>\n",
       "      <td>880606923</td>\n",
       "    </tr>\n",
       "    <tr>\n",
       "      <th>4</th>\n",
       "      <td>166</td>\n",
       "      <td>346</td>\n",
       "      <td>1.0</td>\n",
       "      <td>886397596</td>\n",
       "    </tr>\n",
       "    <tr>\n",
       "      <th>...</th>\n",
       "      <td>...</td>\n",
       "      <td>...</td>\n",
       "      <td>...</td>\n",
       "      <td>...</td>\n",
       "    </tr>\n",
       "    <tr>\n",
       "      <th>99995</th>\n",
       "      <td>880</td>\n",
       "      <td>476</td>\n",
       "      <td>3.0</td>\n",
       "      <td>880175444</td>\n",
       "    </tr>\n",
       "    <tr>\n",
       "      <th>99996</th>\n",
       "      <td>716</td>\n",
       "      <td>204</td>\n",
       "      <td>5.0</td>\n",
       "      <td>879795543</td>\n",
       "    </tr>\n",
       "    <tr>\n",
       "      <th>99997</th>\n",
       "      <td>276</td>\n",
       "      <td>1090</td>\n",
       "      <td>1.0</td>\n",
       "      <td>874795795</td>\n",
       "    </tr>\n",
       "    <tr>\n",
       "      <th>99998</th>\n",
       "      <td>13</td>\n",
       "      <td>225</td>\n",
       "      <td>2.0</td>\n",
       "      <td>882399156</td>\n",
       "    </tr>\n",
       "    <tr>\n",
       "      <th>99999</th>\n",
       "      <td>12</td>\n",
       "      <td>203</td>\n",
       "      <td>3.0</td>\n",
       "      <td>879959583</td>\n",
       "    </tr>\n",
       "  </tbody>\n",
       "</table>\n",
       "<p>100000 rows × 4 columns</p>\n",
       "</div>"
      ],
      "text/plain": [
       "      user_id item_id  rating  timestamp\n",
       "0         196     242     3.0  881250949\n",
       "1         186     302     3.0  891717742\n",
       "2          22     377     1.0  878887116\n",
       "3         244      51     2.0  880606923\n",
       "4         166     346     1.0  886397596\n",
       "...       ...     ...     ...        ...\n",
       "99995     880     476     3.0  880175444\n",
       "99996     716     204     5.0  879795543\n",
       "99997     276    1090     1.0  874795795\n",
       "99998      13     225     2.0  882399156\n",
       "99999      12     203     3.0  879959583\n",
       "\n",
       "[100000 rows x 4 columns]"
      ]
     },
     "execution_count": 3,
     "metadata": {},
     "output_type": "execute_result"
    }
   ],
   "source": [
    "# Load the MovieLens dataset (small version, containing 100,000 ratings)\n",
    "# The 'ml-100k' dataset is a built-in dataset provided by the surprise library\n",
    "data = Dataset.load_builtin('ml-100k')\n",
    "\n",
    "# Get the raw ratings data\n",
    "raw_ratings = data.raw_ratings\n",
    "# raw_ratings is a list that contains tuples of (user_id, item_id, rating, timestamp).\n",
    "\n",
    "# We convert this list into a DataFrame with columns named user_id, item_id, rating, and timestamp, to view it.\n",
    "df = pd.DataFrame(raw_ratings, columns=[\"user_id\", \"item_id\", \"rating\", \"timestamp\"])\n",
    "\n",
    "# Display the first few rows of the DataFrame\n",
    "df"
   ]
  },
  {
   "cell_type": "markdown",
   "id": "6b426ad3",
   "metadata": {},
   "source": [
    "- The MovieLens dataset consists of user ratings for movies.\n",
    "- We load the built-in version which contains 100,000 ratings."
   ]
  },
  {
   "cell_type": "markdown",
   "id": "83fd152c",
   "metadata": {},
   "source": [
    "#### **Step 3: Train-Test Split**"
   ]
  },
  {
   "cell_type": "code",
   "execution_count": 5,
   "id": "fb1c3582",
   "metadata": {},
   "outputs": [],
   "source": [
    "# Split the data into train and test sets\n",
    "trainset, testset = train_test_split(data, test_size=0.2)\n",
    "\n",
    "\n",
    "# We split the dataset so that 80% of the data is used for training and 20% for testing."
   ]
  },
  {
   "cell_type": "markdown",
   "id": "c5f0bd71",
   "metadata": {},
   "source": [
    "#### **Step 4: Build a User-Based Collaborative Filtering Model**"
   ]
  },
  {
   "cell_type": "code",
   "execution_count": 20,
   "id": "355a5414",
   "metadata": {},
   "outputs": [],
   "source": [
    "# Use KNN (K-Nearest Neighbors) for Collaborative Filtering\n",
    "sim_options = {'name': 'cosine', 'user_based': True}  # Use cosine similarity and user-based approach\n",
    "algo = KNNBasic(sim_options=sim_options)# Use KNN (K-Nearest Neighbors) for Collaborative Filtering\n",
    "\n",
    "# Note: There are other algorithms from the Surprise library besides KNN, such as:\n",
    "# - SVD (Singular Value Decomposition) for matrix factorization\n",
    "# - BaselineOnly for basic collaborative filtering with baseline estimates\n",
    "# - CoClustering for a co-clustering-based approach\n",
    "# - NormalPredictor for random predictions"
   ]
  },
  {
   "cell_type": "code",
   "execution_count": 21,
   "id": "c0db5c54",
   "metadata": {},
   "outputs": [
    {
     "name": "stdout",
     "output_type": "stream",
     "text": [
      "Computing the cosine similarity matrix...\n",
      "Done computing similarity matrix.\n"
     ]
    },
    {
     "data": {
      "text/plain": [
       "<surprise.prediction_algorithms.knns.KNNBasic at 0x11b3addb2e0>"
      ]
     },
     "execution_count": 21,
     "metadata": {},
     "output_type": "execute_result"
    }
   ],
   "source": [
    "# Train the model on the training data\n",
    "# Fit the KNN model on the training set to learn user similarities based on their ratings\n",
    "algo.fit(trainset)\n",
    "\n",
    "# We use KNN with cosine similarity to compute similarity between users and recommend items.\n",
    "# 'user_based=True' means we are using user-based collaborative filtering, \n",
    "# which focuses on finding similar users to suggest items they've rated highly to other users."
   ]
  },
  {
   "cell_type": "markdown",
   "id": "6749fd9e",
   "metadata": {},
   "source": [
    "### what it does in the backend\n",
    "`KNNBasic` from the Surprise library implements the K-Nearest Neighbors (KNN) algorithm specifically for collaborative filtering.\n",
    "It essentially creates a model that relies on the idea that similar users (or items) will have similar ratings. By leveraging the ratings of similar users, it makes predictions for users who have not interacted with certain items, aiming to provide personalized recommendations.\n",
    "\n",
    "1. **Similarity Calculation**:\n",
    "   - **Computes Similarity**: It calculates the similarity between users (or items, depending on the `user_based` parameter). For user-based collaborative filtering, it measures how alike users are based on their ratings using a specified similarity metric (like cosine similarity, Pearson correlation, etc.).\n",
    "   - **Distance Metrics**: If `user_based=True`, it computes user-user similarities; if `user_based=False`, it computes item-item similarities.\n",
    "\n",
    "2. **Finding Neighbors**:\n",
    "   - **K Selection**: After calculating the similarities, `KNNBasic` identifies the `K` nearest neighbors (most similar users or items) for each user or item based on the computed similarities. The value of `K` is a parameter you can set (often defaulted to 40 in Surprise).\n",
    "   - **Sorting**: It sorts the users or items based on their similarity scores to find the top `K`.\n",
    "\n",
    "3. **Prediction**:\n",
    "   - **Weighted Average**: When making predictions for a user-item pair, `KNNBasic` computes a weighted average of the ratings from the `K` nearest neighbors. The weights are determined by the similarity scores, meaning closer neighbors have a larger influence on the prediction.\n",
    "   - **Handling Unrated Items**: If a user has not rated an item, the algorithm uses the ratings from similar users to estimate a score for that item.\n",
    "\n",
    "4. **Efficiency**:\n",
    "   - **Sparse Data Handling**: It efficiently handles sparse datasets, which is common in collaborative filtering scenarios, as not all users will rate all items.\n",
    "   - **Optimization**: The algorithm is optimized to quickly find the nearest neighbors and compute predictions, though performance can still vary based on the size of the dataset and the value of `K`."
   ]
  },
  {
   "cell_type": "markdown",
   "id": "550ebd18",
   "metadata": {},
   "source": [
    "#### **Step 5: Evaluate the Model**"
   ]
  },
  {
   "cell_type": "code",
   "execution_count": 22,
   "id": "4dbd3d5b",
   "metadata": {},
   "outputs": [
    {
     "name": "stdout",
     "output_type": "stream",
     "text": [
      "RMSE: 1.0208\n",
      "MAE:  0.8083\n"
     ]
    },
    {
     "data": {
      "text/plain": [
       "0.8083226976603757"
      ]
     },
     "execution_count": 22,
     "metadata": {},
     "output_type": "execute_result"
    }
   ],
   "source": [
    "# Test the algorithm on the test set\n",
    "predictions = algo.test(testset)\n",
    "\n",
    "# Calculate the accuracy of predictions\n",
    "accuracy.rmse(predictions)  # Root Mean Squared Error\n",
    "accuracy.mae(predictions)   # Mean Absolute Error\n",
    "\n",
    "# We test the model using the test dataset and calculate the RMSE (Root Mean Squared Error) to evaluate how well the recommendations match the actual user ratings."
   ]
  },
  {
   "cell_type": "markdown",
   "id": "75c4eb0f",
   "metadata": {},
   "source": [
    "## Simple content-based recommendation system using a dataset of movie descriptions"
   ]
  },
  {
   "cell_type": "markdown",
   "id": "b7c241b9",
   "metadata": {},
   "source": [
    "#### **Step 1: Load Movie Data**"
   ]
  },
  {
   "cell_type": "code",
   "execution_count": 23,
   "id": "622025ed",
   "metadata": {
    "scrolled": true
   },
   "outputs": [
    {
     "data": {
      "text/html": [
       "<div>\n",
       "<style scoped>\n",
       "    .dataframe tbody tr th:only-of-type {\n",
       "        vertical-align: middle;\n",
       "    }\n",
       "\n",
       "    .dataframe tbody tr th {\n",
       "        vertical-align: top;\n",
       "    }\n",
       "\n",
       "    .dataframe thead th {\n",
       "        text-align: right;\n",
       "    }\n",
       "</style>\n",
       "<table border=\"1\" class=\"dataframe\">\n",
       "  <thead>\n",
       "    <tr style=\"text-align: right;\">\n",
       "      <th></th>\n",
       "      <th>Movie_ID</th>\n",
       "      <th>Title</th>\n",
       "      <th>Genre</th>\n",
       "    </tr>\n",
       "  </thead>\n",
       "  <tbody>\n",
       "    <tr>\n",
       "      <th>0</th>\n",
       "      <td>1</td>\n",
       "      <td>The Matrix</td>\n",
       "      <td>Action, Sci-Fi</td>\n",
       "    </tr>\n",
       "    <tr>\n",
       "      <th>1</th>\n",
       "      <td>2</td>\n",
       "      <td>Inception</td>\n",
       "      <td>Action, Sci-Fi</td>\n",
       "    </tr>\n",
       "    <tr>\n",
       "      <th>2</th>\n",
       "      <td>3</td>\n",
       "      <td>Toy Story</td>\n",
       "      <td>Animation, Family</td>\n",
       "    </tr>\n",
       "    <tr>\n",
       "      <th>3</th>\n",
       "      <td>4</td>\n",
       "      <td>Interstellar</td>\n",
       "      <td>Drama, Sci-Fi</td>\n",
       "    </tr>\n",
       "  </tbody>\n",
       "</table>\n",
       "</div>"
      ],
      "text/plain": [
       "   Movie_ID         Title              Genre\n",
       "0         1    The Matrix     Action, Sci-Fi\n",
       "1         2     Inception     Action, Sci-Fi\n",
       "2         3     Toy Story  Animation, Family\n",
       "3         4  Interstellar      Drama, Sci-Fi"
      ]
     },
     "execution_count": 23,
     "metadata": {},
     "output_type": "execute_result"
    }
   ],
   "source": [
    "# Sample dataset (Movies and their genres)\n",
    "import pandas as pd\n",
    "\n",
    "data = {'Movie_ID': [1, 2, 3, 4],\n",
    "        'Title': ['The Matrix', 'Inception', 'Toy Story', 'Interstellar'],\n",
    "        'Genre': ['Action, Sci-Fi', 'Action, Sci-Fi', 'Animation, Family', 'Drama, Sci-Fi']}\n",
    "df = pd.DataFrame(data)\n",
    "df\n",
    "# Here we have a small dataset where each movie is associated with its genre."
   ]
  },
  {
   "cell_type": "markdown",
   "id": "76428d06",
   "metadata": {},
   "source": [
    "#### **Step 2: Preprocess the Data**\n",
    "\n",
    "We need to convert the genres into a format that allows us to calculate similarities between movies."
   ]
  },
  {
   "cell_type": "code",
   "execution_count": 24,
   "id": "ed9d4daf",
   "metadata": {
    "scrolled": true
   },
   "outputs": [
    {
     "data": {
      "text/html": [
       "<div>\n",
       "<style scoped>\n",
       "    .dataframe tbody tr th:only-of-type {\n",
       "        vertical-align: middle;\n",
       "    }\n",
       "\n",
       "    .dataframe tbody tr th {\n",
       "        vertical-align: top;\n",
       "    }\n",
       "\n",
       "    .dataframe thead th {\n",
       "        text-align: right;\n",
       "    }\n",
       "</style>\n",
       "<table border=\"1\" class=\"dataframe\">\n",
       "  <thead>\n",
       "    <tr style=\"text-align: right;\">\n",
       "      <th></th>\n",
       "      <th>Action</th>\n",
       "      <th>Animation</th>\n",
       "      <th>Drama</th>\n",
       "      <th>Family</th>\n",
       "      <th>Sci-Fi</th>\n",
       "    </tr>\n",
       "  </thead>\n",
       "  <tbody>\n",
       "    <tr>\n",
       "      <th>0</th>\n",
       "      <td>1</td>\n",
       "      <td>0</td>\n",
       "      <td>0</td>\n",
       "      <td>0</td>\n",
       "      <td>1</td>\n",
       "    </tr>\n",
       "    <tr>\n",
       "      <th>1</th>\n",
       "      <td>1</td>\n",
       "      <td>0</td>\n",
       "      <td>0</td>\n",
       "      <td>0</td>\n",
       "      <td>1</td>\n",
       "    </tr>\n",
       "    <tr>\n",
       "      <th>2</th>\n",
       "      <td>0</td>\n",
       "      <td>1</td>\n",
       "      <td>0</td>\n",
       "      <td>1</td>\n",
       "      <td>0</td>\n",
       "    </tr>\n",
       "    <tr>\n",
       "      <th>3</th>\n",
       "      <td>0</td>\n",
       "      <td>0</td>\n",
       "      <td>1</td>\n",
       "      <td>0</td>\n",
       "      <td>1</td>\n",
       "    </tr>\n",
       "  </tbody>\n",
       "</table>\n",
       "</div>"
      ],
      "text/plain": [
       "   Action  Animation  Drama  Family  Sci-Fi\n",
       "0       1          0      0       0       1\n",
       "1       1          0      0       0       1\n",
       "2       0          1      0       1       0\n",
       "3       0          0      1       0       1"
      ]
     },
     "execution_count": 24,
     "metadata": {},
     "output_type": "execute_result"
    }
   ],
   "source": [
    "# Split the 'Genre' column into a list of genres for each song\n",
    "df['Genre'] = df['Genre'].apply(lambda x: x.split(', '))\n",
    "\n",
    "# Create a one-hot encoded DataFrame where each genre becomes a separate column\n",
    "# The genres are joined with '|' as a separator, and then get_dummies creates binary columns\n",
    "onehot_df = df['Genre'].str.join('|').str.get_dummies()\n",
    "\n",
    "# Display the one-hot encoded DataFrame\n",
    "onehot_df"
   ]
  },
  {
   "cell_type": "markdown",
   "id": "507767c5",
   "metadata": {},
   "source": [
    "#### **Step 3: Calculate Similarity Between Movies**"
   ]
  },
  {
   "cell_type": "code",
   "execution_count": 25,
   "id": "4594cf52",
   "metadata": {},
   "outputs": [],
   "source": [
    "# Calculate cosine similarity between movies based on their genres\n",
    "from sklearn.metrics.pairwise import cosine_similarity\n",
    "\n",
    "cosine_sim = cosine_similarity(onehot_df)\n",
    "\n",
    "# We use cosine similarity to calculate the similarity between the movies based on their genres."
   ]
  },
  {
   "cell_type": "code",
   "execution_count": 26,
   "id": "00b06c12",
   "metadata": {
    "scrolled": true
   },
   "outputs": [
    {
     "data": {
      "text/plain": [
       "array([[1. , 1. , 0. , 0.5],\n",
       "       [1. , 1. , 0. , 0.5],\n",
       "       [0. , 0. , 1. , 0. ],\n",
       "       [0.5, 0.5, 0. , 1. ]])"
      ]
     },
     "execution_count": 26,
     "metadata": {},
     "output_type": "execute_result"
    }
   ],
   "source": [
    "# This displays a matrix comparing the 4 movies with each other\n",
    "cosine_sim"
   ]
  },
  {
   "cell_type": "markdown",
   "id": "7fd95b7b",
   "metadata": {},
   "source": [
    "### Cosine Similarity\n",
    "\n",
    "#### Cosine Similarity Calculation:\n",
    "\n",
    "1. **Cosine Similarity Overview**: \n",
    "   - Cosine similarity compares the **angle** between two vectors. A value of `1` means they are perfectly aligned (same direction), and a value of `0` means they are completely orthogonal (no similarity).\n",
    "   - For binary data like this, cosine similarity can be thought of as comparing the **overlap** in the presence of specific genres between two movies.\n",
    "\n",
    "2. **Interpretation of `cosine_sim`**:\n",
    "   The `cosine_similarity(onehot_df)` computes the similarity between each row (i.e., each movie) based on the one-hot encoded genre features. \n",
    "\n",
    "\n",
    "#### `cosine_sim` Output:\n",
    "Summary of `cosine_sim` array:\n",
    "- **1.0**: Perfect similarity (when the movies have the same genres).\n",
    "- **0.5**: Partial similarity (when they share one genre).\n",
    "- **0.0**: No similarity (no shared genres).\n",
    "    \n",
    "Let's break down the values from `cosine_sim`:\n",
    "\n",
    "- **All diagonal values are 1**, meaning each movie is perfectly similar to itself (`cosine_sim[0, 0] = 1`).\n",
    "\n",
    "- **Movies 0 and 1** (rows 0 and 1 in `one_hot_df`):\n",
    "  - They have the same genres: Action and Sci-Fi (`[1, 0, 0, 0, 1]`).\n",
    "  - Cosine similarity between them is **1**, meaning they are perfectly similar (`cosine_sim[0, 1] = 1`).\n",
    "\n",
    "- **Movies 0 and 2** (rows 0 and 2 in `one_hot_df`):\n",
    "  - Movie 0 has Action and Sci-Fi, while Movie 2 has Animation and Family (`[0, 1, 0, 1, 0]`).\n",
    "  - There is **no overlap** between the genres of these two movies, so the cosine similarity is **0** (`cosine_sim[0, 2] = 0`).\n",
    "\n",
    "- **Movies 0 and 3** (rows 0 and 3 in `one_hot_df`):\n",
    "  - Movie 3 has Drama and Sci-Fi (`[0, 0, 1, 0, 1]`), sharing only the Sci-Fi genre with Movie 0.\n",
    "  - They have a cosine similarity of **0.5** due to this partial overlap (`cosine_sim[0, 3] = 0.5`).\n",
    "\n",
    "- **Movies 2 and 3** (rows 2 and 3 in `one_hot_df`):\n",
    "  - Movie 2 has Animation and Family, while Movie 3 has Drama and Sci-Fi, so there is **no overlap**, leading to a similarity of **0** (`cosine_sim[2, 3] = 0`).\n",
    "\n",
    "\n",
    "\n",
    "This matrix reflects the pairwise similarity between movies based on their genres, and you can use it to make genre-based recommendations by finding movies with high similarity to a given movie."
   ]
  },
  {
   "cell_type": "markdown",
   "id": "421c2dd2",
   "metadata": {},
   "source": [
    "- **Cosine Similarity** measures the similarity between two vectors based on the angle between them.\n",
    "- In your case, it calculates how similar two movies are based on their **genre vectors**.\n",
    "- It’s a common metric for similarity in recommendation systems, particularly when features are represented as **binary or numeric vectors**.\n",
    "\n",
    "### How Cosine Similarity Works:\n",
    "1. **Cosine of the Angle**: \n",
    "   - The cosine similarity measures the cosine of the angle between two vectors in an **n-dimensional space**.\n",
    "   - If two vectors point in the same direction, the cosine similarity is **1** (maximum similarity).\n",
    "   - If two vectors are at **90 degrees** to each other, the cosine similarity is **0** (no similarity).\n",
    "   - If two vectors point in completely opposite directions, the cosine similarity is **-1** (maximum dissimilarity).\n",
    "\n",
    "   The formula for cosine similarity between two vectors \\( A \\) and \\( B \\) is:\n",
    "   \n",
    "   $\n",
    "   \\text{cosine_similarity}(A, B) = \\frac{A \\cdot B}{\\|A\\| \\|B\\|}\n",
    "   $\n",
    "   \n",
    "   Where:\n",
    "   - $ A \\cdot B $ is the **dot product** of the two vectors.\n",
    "   - $ \\|A\\|  and  \\|B\\| $ are the magnitudes (lengths) of the vectors.\n",
    "\n",
    "2. **Cosine Similarity Between Movies:**\n",
    "   In your case, the vectors represent movies, and each dimension corresponds to a genre (since you're using a one-hot encoded dataframe `onehot_df` where the genres are represented as binary values).\n",
    "   \n",
    "   - Movies with **similar genre patterns** (e.g., both movies are action and adventure) will have a cosine similarity close to **1**.\n",
    "   - Movies with **very different genres** (e.g., one is comedy and the other is horror) will have a cosine similarity closer to **0**.\n",
    "\n",
    "### Application to Movies:\n",
    "- **Genres as Features**: If you represent each movie by a vector of its genres (like in your one-hot encoded `onehot_df`), then `cosine_similarity` calculates how similar two movies are based on their genre composition.\n",
    "   - For example, if Movie A is an **Action, Adventure** movie and Movie B is an **Action, Sci-Fi** movie, they will have a high cosine similarity because they share the **Action** genre.\n",
    "   - If Movie C is a **Romantic Comedy** and Movie D is a **Horror** movie, their cosine similarity will be low or zero, as they don't share any genres."
   ]
  },
  {
   "cell_type": "markdown",
   "id": "989eb650",
   "metadata": {},
   "source": [
    "#### **Step 4: Make Recommendations**"
   ]
  },
  {
   "cell_type": "code",
   "execution_count": 27,
   "id": "6ad36efa",
   "metadata": {},
   "outputs": [
    {
     "name": "stdout",
     "output_type": "stream",
     "text": [
      "['Inception', 'Interstellar', 'Toy Story']\n"
     ]
    }
   ],
   "source": [
    "# Function to recommend movies based on similarity\n",
    "def recommend(movie_title, df, cosine_sim):\n",
    "    # Get the index of the movie in the dataframe\n",
    "    movie_idx = df[df['Title'] == movie_title].index[0]\n",
    "    \n",
    "    # Create a list of tuples (index, similarity score) for the movie at movie_idx\n",
    "    similar_movies = list(enumerate(cosine_sim[movie_idx]))\n",
    "    \n",
    "    # Sort the movies based on similarity scores (second item) in descending order\n",
    "    similar_movies = sorted(similar_movies, key=lambda x: x[1], reverse=True)\n",
    "    \n",
    "    # Get the top 3 recommended movies (excluding the first one as it will be the same movie)\n",
    "    recommended_movies = [df['Title'][i[0]] for i in similar_movies[1:4]]\n",
    "    \n",
    "    return recommended_movies  # Return the list of recommended movie titles\n",
    "\n",
    "# Example recommendation\n",
    "print(recommend('The Matrix', df, cosine_sim))  # Print the recommended movies for 'The Matrix'\n",
    "\n",
    "# The function finds movies similar to the given movie (in this case 'The Matrix') based on cosine similarity \n",
    "# and returns the top 3 recommendations."
   ]
  },
  {
   "cell_type": "code",
   "execution_count": null,
   "id": "0e277ad4",
   "metadata": {},
   "outputs": [],
   "source": []
  }
 ],
 "metadata": {
  "kernelspec": {
   "display_name": "Python 3 (ipykernel)",
   "language": "python",
   "name": "python3"
  },
  "language_info": {
   "codemirror_mode": {
    "name": "ipython",
    "version": 3
   },
   "file_extension": ".py",
   "mimetype": "text/x-python",
   "name": "python",
   "nbconvert_exporter": "python",
   "pygments_lexer": "ipython3",
   "version": "3.12.4"
  }
 },
 "nbformat": 4,
 "nbformat_minor": 5
}
